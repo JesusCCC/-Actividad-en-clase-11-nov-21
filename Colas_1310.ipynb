{
  "nbformat": 4,
  "nbformat_minor": 0,
  "metadata": {
    "colab": {
      "name": "Colas_1310.ipynb",
      "provenance": []
    },
    "kernelspec": {
      "name": "python3",
      "display_name": "Python 3"
    },
    "language_info": {
      "name": "python"
    }
  },
  "cells": [
    {
      "cell_type": "code",
      "metadata": {
        "id": "wGTI5TgqJ-rk"
      },
      "source": [
        "class Queue:\n",
        "    def __init__( self ):\n",
        "        self.data = []\n",
        "\n",
        "    def is_empty( self ):\n",
        "        return len( self.data ) == 0\n",
        "\n",
        "    def lenght( self ):\n",
        "        return len( self.data )\n",
        "    \n",
        "    def enqueue( self, value ):\n",
        "        self.data.append( value )\n",
        "\n",
        "    def dequeue( self ):\n",
        "        return self.data.pop(0)\n",
        "\n",
        "    def to_string( self ):\n",
        "        for elem in self.data:\n",
        "            print(f\"| { elem }| <--\", end=\"\")\n",
        "        print(\"\")"
      ],
      "execution_count": 3,
      "outputs": []
    },
    {
      "cell_type": "code",
      "metadata": {
        "id": "Ab2AD1BRNrvv"
      },
      "source": [
        "cola = Queue()\n",
        "print(\"Esta vacio?: \", cola.is_empty() )\n",
        "print(\"Numero de elementos = \", cola.lenght() )\n",
        "cola.enqueue(10)\n",
        "cola.enqueue(20)\n",
        "cola.enqueue(30)\n",
        "print(\"Esta vacio?: \", cola.is_empty() )\n",
        "print(\"Numero de elementos = \", cola.lenght() )\n",
        "cola.enqueue(40)\n",
        "cola.enqueue(50)\n",
        "cola.enqueue(60)\n",
        "cola.to_string() \n",
        "siguiente = cola.dequeue()\n",
        "print(\"Atendiendo a: \", siguiente)\n",
        "cola.to_string"
      ],
      "execution_count": null,
      "outputs": []
    }
  ]
}